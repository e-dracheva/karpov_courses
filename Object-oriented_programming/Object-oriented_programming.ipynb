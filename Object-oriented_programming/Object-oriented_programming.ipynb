{
 "cells": [
  {
   "cell_type": "markdown",
   "id": "1040ca7c",
   "metadata": {},
   "source": [
    "   **Задание:** Напишите класс Triangle, который будет иметь 3 поля: a, b, c (стороны треугольника) и n_dots = 3(количество точек). \n",
    "    Поле n_dots объявите на уровне класса, не в конструкторе — чтобы оно было доступно без создания объекта \n",
    "(т.е. работал вызов Triangle.n_dots).\n",
    "    Добавьте в класс простой конструктор: он должен проверять, что выполнено неравенство треугольника - \n",
    "каждая сторона меньше или равна сумме двух других. \n",
    "    Если это условие не выполнено, выбрасывайте ValueError с текстом \"triangle inequality does not hold\" \n",
    "(передайте эту строку в конструктор ValueError).\n",
    "\n",
    "Наконец, создайте два объекта данного класса с названиями tr_1 и tr_2 , в которых соблюдается равенство треугольника. Также, сохраните в переменные square_1 и square_2 результаты вызовов методов .area() для объектов tr_1 и tr_2 соответственно.\n",
    "\n"
   ]
  },
  {
   "cell_type": "markdown",
   "id": "d83fb56c",
   "metadata": {},
   "source": [
    "**Решение**"
   ]
  },
  {
   "cell_type": "code",
   "execution_count": 1,
   "id": "7c8cf23a",
   "metadata": {},
   "outputs": [],
   "source": [
    "class Triangle:\n",
    "    n_dots = 3\n",
    "    def __init__(self, a, b, c):\n",
    "        if a + b >= c:\n",
    "            self.c = c\n",
    "            if b + c >= a:\n",
    "                self.a = a\n",
    "                if a + c >= b:\n",
    "                    self.b = b\n",
    "        else: raise ValueError(\"triangle inequality does not hold\")\n",
    "    def area(self):\n",
    "        p = 0.5*(self.a + self.b + self.c)\n",
    "        print(p)\n",
    "        S = (p*(p-self.a)*(p-self.b)*(p-self.c))**0.5\n",
    "        return S"
   ]
  },
  {
   "cell_type": "code",
   "execution_count": 2,
   "id": "a1637ad8",
   "metadata": {},
   "outputs": [],
   "source": [
    "tr_1 = Triangle(1, 2, 3)"
   ]
  },
  {
   "cell_type": "code",
   "execution_count": 3,
   "id": "39a195d2",
   "metadata": {},
   "outputs": [],
   "source": [
    "tr_2 = Triangle(4, 1, 5)"
   ]
  },
  {
   "cell_type": "code",
   "execution_count": 4,
   "id": "eb3b2b35",
   "metadata": {},
   "outputs": [
    {
     "name": "stdout",
     "output_type": "stream",
     "text": [
      "3.0\n",
      "5.0\n"
     ]
    }
   ],
   "source": [
    "square_1 = tr_1.area()\n",
    "square_2 = tr_2.area()"
   ]
  },
  {
   "cell_type": "markdown",
   "id": "cc9cca5e",
   "metadata": {},
   "source": [
    "**Задание:**\n",
    "Создайте класс Rectangle (прямоугольник), который будет наследоваться от класса Triangle. Сделайте так, чтобы area(), конструктор и поле n_dots были верными. А именно:\n",
    "\n",
    "- Конструктор должен принимать 2 стороны: a, b\n",
    "- area() должен считать площадь как произведение смежных сторон: S=ab\n",
    "- Неравенство треугольника не нужно проверять.\n",
    "- n_dots должен быть объявлен на уровне класса и равняться 4.\n"
   ]
  },
  {
   "cell_type": "markdown",
   "id": "bd82772f",
   "metadata": {},
   "source": [
    "**Решение**"
   ]
  },
  {
   "cell_type": "code",
   "execution_count": 5,
   "id": "bdf2264e",
   "metadata": {},
   "outputs": [],
   "source": [
    "class Rectangle(Triangle):\n",
    "    n_dots = 4\n",
    "    def __init__(self, a, b):\n",
    "        self.a = a\n",
    "        self.b = b\n",
    "    def area(self):\n",
    "        S = self.a*self.b\n",
    "        return S"
   ]
  },
  {
   "cell_type": "markdown",
   "id": "a01b8166",
   "metadata": {},
   "source": [
    "**Задание:**\n",
    "Вы, наверно, заметили, что при наследовании в прошлом задании мы переписали почти всю логику. Это плохо: при наследовании нужно расширять класс, а не переписывать его.\n",
    "\n",
    "Но все же хочется использовать наследование, ведь треугольники и прямоугольники имеют общие свойства: \n",
    "\n",
    "- Оба характеризуются количеством точек n_dots.\n",
    "- Оба имеют метод area().\n",
    "- Оба имеют проверки на валидность данных. В случае прямоугольника это было равенство противоположных сторон, которое мы пропустили благодаря трюку: вместо принятия четырех сторон a, b, c, d на вход мы принимали две и далее держали в уме a=c, b=d. В случае треугольника это было неравенство треугольника.\n",
    "\n",
    "Тут нам поможет создание некой \"базовой фигуры\". Это будет сборник общих свойств, который сам по себе не будет представлять никакую фигуру, но послужит хорошим плацдармом для следующих классов.\n",
    "\n",
    "Напишите класс BaseFigure, который имеет поле класса (т.е. на уровне класса) n_dots = None, метод area() \"без реализации\", метод validate() \"без реализации\". Сделайте так, чтобы методы \"без реализации\" выбрасывали исключение NotImplementedError при их вызове и ничего другого не делали. Создайте также конструктор класса, который не принимает дополнительных аргументов и в реализации только лишь вызывает self.validate().\n",
    "\n"
   ]
  },
  {
   "cell_type": "markdown",
   "id": "3d7c03e2",
   "metadata": {},
   "source": [
    "**Решение**"
   ]
  },
  {
   "cell_type": "code",
   "execution_count": 6,
   "id": "f8e276a6",
   "metadata": {},
   "outputs": [],
   "source": [
    "class BaseFigure:\n",
    "    n_dots = None\n",
    "    def __init__(self):\n",
    "        self.validate()\n",
    "    def area():\n",
    "        raise NotImplementedError()\n",
    "    def validate():\n",
    "        raise NotImplementedError()"
   ]
  },
  {
   "cell_type": "markdown",
   "id": "098a0ea6",
   "metadata": {},
   "source": [
    "**Задание:** Перепишите классы Triangle, Rectangle так, чтобы они наследовались от BaseFigure. Переопределите метод area в каждом случае.\n",
    "\n",
    "- Переопределите конструктор в каждом случае (число аргументов тоже меняется). Не забудьте в конструкторе дочернего класса вызвать конструктор родительского класса!\n",
    "\n",
    "- Переопределите метод validate в каждом случае. Метод validate должен принимать только аргумент self и использовать созданные в конструкторе переменные. Для этого вы можете сначала сохранять в конструкторе входные данные в self.переменная, а затем вызывать конструктор суперкласса. Для Triangle данный метод должен проверять неравенство треугольника и выбрасывать ошибку ValueError(\"triangle inequality does not hold\") либо возвращать значения сторон. Для Rectangle данный метод должен возвращать значения сторон.\n",
    "\n",
    "В итоге вы получите два класса, которые построены по схожему шаблону. Этот общий шаблон был задан в классе BaseFigure. Создайте несколько объектов этих классов и попробуйте вызвать у них .area(), .validate(). Если вы пользуетесь IDE, то увидите интерактивные подсказки: она скажет, что такие методы есть и что эти методы перегружают (overload) методы из родительского класса. При этом вызов методов будет работать коррректно.\n",
    "\n"
   ]
  },
  {
   "cell_type": "markdown",
   "id": "99991218",
   "metadata": {},
   "source": [
    "**Решение**"
   ]
  },
  {
   "cell_type": "code",
   "execution_count": 7,
   "id": "f052b52e",
   "metadata": {
    "scrolled": true
   },
   "outputs": [],
   "source": [
    "class Triangle(BaseFigure):\n",
    "    n_dots = 3\n",
    "    def __init__(self, a, b, c):\n",
    "        self.a = a\n",
    "        self.b = b\n",
    "        self.c = c\n",
    "        super().__init__()\n",
    "    def area(self):\n",
    "        p = 0.5*(self.a + self.b + self.c)\n",
    "        S = (p*(p-self.a)*(p-self.b)*(p-self.c))**0.5\n",
    "        return S\n",
    "    def validate(self):\n",
    "        if self.a + self.b >= self.c:\n",
    "            return self.c\n",
    "            if self.b + self.c >= self.a:\n",
    "                return self.a\n",
    "                if self.a + self.c >= self.b:\n",
    "                    return self.b\n",
    "        else: raise ValueError(\"triangle inequality does not hold\")    "
   ]
  },
  {
   "cell_type": "code",
   "execution_count": 8,
   "id": "df5a2539",
   "metadata": {},
   "outputs": [],
   "source": [
    "class Rectangle(BaseFigure):\n",
    "    n_dots = 4\n",
    "    def __init__(self, a, b):\n",
    "        self.a = a\n",
    "        self.b = b\n",
    "        super().__init__()\n",
    "    def area(self):\n",
    "        S = self.a*self.b\n",
    "        return S\n",
    "    def validate(self):\n",
    "        return self.a, self.b"
   ]
  },
  {
   "cell_type": "code",
   "execution_count": 9,
   "id": "ff5c76aa",
   "metadata": {},
   "outputs": [],
   "source": [
    "tr_1 = Triangle(1, 2, 3)"
   ]
  },
  {
   "cell_type": "code",
   "execution_count": 10,
   "id": "3ce15d43",
   "metadata": {},
   "outputs": [],
   "source": [
    "rc_1 = Rectangle(5, 4)"
   ]
  },
  {
   "cell_type": "markdown",
   "id": "3c4b9266",
   "metadata": {},
   "source": [
    "**Задание:** \n",
    "Попробуем собрать совершенно новый класс, используя BaseFigure в качестве шаблона.\n",
    "\n",
    "Напишите класс Circle, в котором в качестве n_dots будет float('inf'), area будет считаться как 3.14 * r^2, а конструктор будет принимать только один аргумент - r. Метод validate не должен принимать никаких аргументов и не должен осуществлять никаких проверок."
   ]
  },
  {
   "cell_type": "markdown",
   "id": "5f651a0e",
   "metadata": {},
   "source": [
    "**Решение**"
   ]
  },
  {
   "cell_type": "code",
   "execution_count": 11,
   "id": "be70c45f",
   "metadata": {},
   "outputs": [],
   "source": [
    "class Circle(BaseFigure):\n",
    "    n_dots = float('inf')\n",
    "    def __init__(self, r):\n",
    "        self.r = r\n",
    "        super().__init__()    \n",
    "    def area(self):\n",
    "        S = 3.14 * self.r**2\n",
    "        return S\n",
    "    def validate(self):\n",
    "        pass"
   ]
  },
  {
   "cell_type": "code",
   "execution_count": 12,
   "id": "0ee19cf7",
   "metadata": {},
   "outputs": [],
   "source": [
    "cr_1 = Circle(5)"
   ]
  },
  {
   "cell_type": "code",
   "execution_count": 13,
   "id": "5806b1f4",
   "metadata": {},
   "outputs": [
    {
     "data": {
      "text/plain": [
       "78.5"
      ]
     },
     "execution_count": 13,
     "metadata": {},
     "output_type": "execute_result"
    }
   ],
   "source": [
    "cr_1.area()"
   ]
  },
  {
   "cell_type": "markdown",
   "id": "fb935f9c",
   "metadata": {},
   "source": [
    "**Задание:** Напишите класс Vector, который на вход будет принимать список координат (x \n",
    "1\n",
    "​\n",
    " ,…,x \n",
    "n\n",
    "​\n",
    " ). Положите все координаты вектора в список self.coords.\n",
    "\n",
    "Добавьте методу красивый вывод при передаче его в print(...)\n",
    "\n",
    "Добавьте в класс возможность умножать вектор на вектор и вектор на число. Не забудьте сохранять координаты вектора в self.coords.\n",
    "\n",
    "Добавьте в класс возможности сравнивать два вектора между собой и считать abs (это длина вектора, в Евклидовой метрике)."
   ]
  },
  {
   "cell_type": "code",
   "execution_count": 14,
   "id": "a763b9d6",
   "metadata": {},
   "outputs": [],
   "source": [
    "class Vector:\n",
    "    def __init__(self, list):\n",
    "        self.coords = list\n",
    "    def __add__(self, other):\n",
    "        if isinstance(other, Vector):\n",
    "            if len(self.coords) != len(other.coords):\n",
    "                raise ValueError(f'left and right lengths differ: {len(self.coords)} != {len(other.coords)}')\n",
    "            return Vector([coor1 + coor2 for coor1,coor2 in zip(self.coords, other.coords)])\n",
    "    def __repr__ (self):\n",
    "        return \"%r\" % (self.coords)\n",
    "    def __mul__(self, other):\n",
    "        p=0\n",
    "        if isinstance(other, Vector):\n",
    "            if len(self.coords) != len(other.coords):\n",
    "                raise ValueError(f'left and right lengths differ: {len(self.coords)} != {len(other.coords)}')\n",
    "            for coor1,coor2 in zip(self.coords, other.coords):\n",
    "                p +=coor1*coor2\n",
    "            return p\n",
    "        else:\n",
    "            return Vector([coor*other for coor in self.coords])\n",
    "    def __eq__(self, other):\n",
    "        if self.coords == other.coords:\n",
    "            return True\n",
    "        else: return False\n",
    "    \n",
    "    def __abs__(self):\n",
    "        distance = 0\n",
    "        for coor in self.coords:\n",
    "            distance += coor**2\n",
    "        return distance**0.5"
   ]
  },
  {
   "cell_type": "code",
   "execution_count": 15,
   "id": "2393c852",
   "metadata": {},
   "outputs": [
    {
     "data": {
      "text/plain": [
       "[3, 5, 7]"
      ]
     },
     "execution_count": 15,
     "metadata": {},
     "output_type": "execute_result"
    }
   ],
   "source": [
    "Vector([1, 2, 3]) + Vector([2, 3, 4])"
   ]
  },
  {
   "cell_type": "code",
   "execution_count": 16,
   "id": "c56eb87d",
   "metadata": {},
   "outputs": [
    {
     "name": "stdout",
     "output_type": "stream",
     "text": [
      "[1, 2, 3]\n"
     ]
    }
   ],
   "source": [
    "print(Vector([1, 2, 3]))"
   ]
  },
  {
   "cell_type": "code",
   "execution_count": 17,
   "id": "0e626eb9",
   "metadata": {},
   "outputs": [
    {
     "ename": "ValueError",
     "evalue": "left and right lengths differ: 2 != 3",
     "output_type": "error",
     "traceback": [
      "\u001b[0;31m---------------------------------------------------------------------------\u001b[0m",
      "\u001b[0;31mValueError\u001b[0m                                Traceback (most recent call last)",
      "\u001b[0;32m/var/folders/s3/z8mlrg3n24z5b_6mmph65y7w0000gn/T/ipykernel_21068/3222591718.py\u001b[0m in \u001b[0;36m<module>\u001b[0;34m\u001b[0m\n\u001b[0;32m----> 1\u001b[0;31m \u001b[0mVector\u001b[0m\u001b[0;34m(\u001b[0m\u001b[0;34m[\u001b[0m\u001b[0;36m1\u001b[0m\u001b[0;34m,\u001b[0m \u001b[0;36m2\u001b[0m\u001b[0;34m]\u001b[0m\u001b[0;34m)\u001b[0m \u001b[0;34m+\u001b[0m \u001b[0mVector\u001b[0m\u001b[0;34m(\u001b[0m\u001b[0;34m[\u001b[0m\u001b[0;36m1\u001b[0m\u001b[0;34m,\u001b[0m \u001b[0;36m2\u001b[0m\u001b[0;34m,\u001b[0m \u001b[0;36m3\u001b[0m\u001b[0;34m]\u001b[0m\u001b[0;34m)\u001b[0m\u001b[0;34m\u001b[0m\u001b[0;34m\u001b[0m\u001b[0m\n\u001b[0m",
      "\u001b[0;32m/var/folders/s3/z8mlrg3n24z5b_6mmph65y7w0000gn/T/ipykernel_21068/2660225742.py\u001b[0m in \u001b[0;36m__add__\u001b[0;34m(self, other)\u001b[0m\n\u001b[1;32m      5\u001b[0m         \u001b[0;32mif\u001b[0m \u001b[0misinstance\u001b[0m\u001b[0;34m(\u001b[0m\u001b[0mother\u001b[0m\u001b[0;34m,\u001b[0m \u001b[0mVector\u001b[0m\u001b[0;34m)\u001b[0m\u001b[0;34m:\u001b[0m\u001b[0;34m\u001b[0m\u001b[0;34m\u001b[0m\u001b[0m\n\u001b[1;32m      6\u001b[0m             \u001b[0;32mif\u001b[0m \u001b[0mlen\u001b[0m\u001b[0;34m(\u001b[0m\u001b[0mself\u001b[0m\u001b[0;34m.\u001b[0m\u001b[0mcoords\u001b[0m\u001b[0;34m)\u001b[0m \u001b[0;34m!=\u001b[0m \u001b[0mlen\u001b[0m\u001b[0;34m(\u001b[0m\u001b[0mother\u001b[0m\u001b[0;34m.\u001b[0m\u001b[0mcoords\u001b[0m\u001b[0;34m)\u001b[0m\u001b[0;34m:\u001b[0m\u001b[0;34m\u001b[0m\u001b[0;34m\u001b[0m\u001b[0m\n\u001b[0;32m----> 7\u001b[0;31m                 \u001b[0;32mraise\u001b[0m \u001b[0mValueError\u001b[0m\u001b[0;34m(\u001b[0m\u001b[0;34mf'left and right lengths differ: {len(self.coords)} != {len(other.coords)}'\u001b[0m\u001b[0;34m)\u001b[0m\u001b[0;34m\u001b[0m\u001b[0;34m\u001b[0m\u001b[0m\n\u001b[0m\u001b[1;32m      8\u001b[0m             \u001b[0;32mreturn\u001b[0m \u001b[0mVector\u001b[0m\u001b[0;34m(\u001b[0m\u001b[0;34m[\u001b[0m\u001b[0mcoor1\u001b[0m \u001b[0;34m+\u001b[0m \u001b[0mcoor2\u001b[0m \u001b[0;32mfor\u001b[0m \u001b[0mcoor1\u001b[0m\u001b[0;34m,\u001b[0m\u001b[0mcoor2\u001b[0m \u001b[0;32min\u001b[0m \u001b[0mzip\u001b[0m\u001b[0;34m(\u001b[0m\u001b[0mself\u001b[0m\u001b[0;34m.\u001b[0m\u001b[0mcoords\u001b[0m\u001b[0;34m,\u001b[0m \u001b[0mother\u001b[0m\u001b[0;34m.\u001b[0m\u001b[0mcoords\u001b[0m\u001b[0;34m)\u001b[0m\u001b[0;34m]\u001b[0m\u001b[0;34m)\u001b[0m\u001b[0;34m\u001b[0m\u001b[0;34m\u001b[0m\u001b[0m\n\u001b[1;32m      9\u001b[0m     \u001b[0;32mdef\u001b[0m \u001b[0m__repr__\u001b[0m \u001b[0;34m(\u001b[0m\u001b[0mself\u001b[0m\u001b[0;34m)\u001b[0m\u001b[0;34m:\u001b[0m\u001b[0;34m\u001b[0m\u001b[0;34m\u001b[0m\u001b[0m\n",
      "\u001b[0;31mValueError\u001b[0m: left and right lengths differ: 2 != 3"
     ]
    }
   ],
   "source": [
    "Vector([1, 2]) + Vector([1, 2, 3])"
   ]
  },
  {
   "cell_type": "code",
   "execution_count": 18,
   "id": "f5de4baf",
   "metadata": {},
   "outputs": [
    {
     "data": {
      "text/plain": [
       "6"
      ]
     },
     "execution_count": 18,
     "metadata": {},
     "output_type": "execute_result"
    }
   ],
   "source": [
    "Vector([1, 2, 3]) * Vector([2, 5, -2])"
   ]
  },
  {
   "cell_type": "code",
   "execution_count": 19,
   "id": "2ca08cfa",
   "metadata": {
    "scrolled": true
   },
   "outputs": [
    {
     "data": {
      "text/plain": [
       "[10, 15, 25, 40]"
      ]
     },
     "execution_count": 19,
     "metadata": {},
     "output_type": "execute_result"
    }
   ],
   "source": [
    "Vector([2, 3, 5, 8]) * 5"
   ]
  },
  {
   "cell_type": "code",
   "execution_count": 20,
   "id": "8686ccca",
   "metadata": {},
   "outputs": [
    {
     "data": {
      "text/plain": [
       "13.0"
      ]
     },
     "execution_count": 20,
     "metadata": {},
     "output_type": "execute_result"
    }
   ],
   "source": [
    "abs(Vector([-12, 5]))"
   ]
  },
  {
   "cell_type": "markdown",
   "id": "76892688",
   "metadata": {},
   "source": [
    "Множественное наследование\n",
    "\n",
    "**Задача:**\n",
    "Попробуем сделать множественное наследование аккуратно и так, как его обычно делают в популярных библиотеках.\n",
    "\n",
    "Обычно множественное наследование используют в т.н. Mixins. Mixin (рус. миксины) - это класс, не имеющий полей и имеющий один или более не абстрактных методов (т.е. методов с реализацией). Обычно миксины используют для того, чтобы модульно раздавать различные функциональности различным объектам.\n",
    "\n",
    "Встала задача разработать класс, которому на вход будет приходить разобранный запрос от пользователя. Запрос имеет вид:\n",
    "\n",
    "будет приходить запрос в виде словаря\n",
    "request = {\n",
    "  \"cookies\": {key_1: value_1, key_2: value_2, ...},\n",
    "  \"body\": \"a long time ago, in a Galaxy far, far away\",\n",
    "  \"headers\": {\"content-type\": \"application/json\", \"Accept\": \"application/json\"}\n",
    "}\n",
    " \n",
    "и этот словарь будет передаваться в конструктор класса\n",
    "handler = Handler(request)\n",
    "\n",
    "\n",
    "Разным классам в приложении потребуется разная функциональность: кому-то потребуется проверять, есть ли в headers ключ \"Accept\", кому-то потребуется читать body, а кому-то понадобится проверять пустоту cookies. Будут и классы, которым потребуется несколько возможностей сразу.\n",
    "\n",
    "Напишите классы ParsesCookies, ParsesBody, ParsesHeaders по условиям:\n",
    "\n",
    "- Класс ParsesCookies имеет метод cookies(), возвращающий все по ключу cookies из словаря self.request.\n",
    "- Класс ParsesCookies имеет метод is_authed(), который будет проверять, что в словаре cookies будет ключ auth_key (ни в коем случае не используйте такую авторизацию в реальных проектах).\n",
    "- Класс ParsesBody имеет метод body(), возвращающий текст по ключу body в self.request.\n",
    "- Класс ParsesHeaders имеет метод headers(), возвращающий все по ключу headers из словаря self.request.\n",
    "- Класс ParsesHeaders имеет метод need_json(), который возвращает True, если в headers по ключу \"content-type\" лежит значение \"application/json\", иначе False."
   ]
  },
  {
   "cell_type": "markdown",
   "id": "854cc8b0",
   "metadata": {},
   "source": [
    "**Решение**"
   ]
  },
  {
   "cell_type": "code",
   "execution_count": 21,
   "id": "449441d3",
   "metadata": {},
   "outputs": [],
   "source": [
    "class Handler:\n",
    "    def __init__(self, request: dict):\n",
    "        self.request = request\n",
    "        \n",
    "class ParsesCookies(Handler):\n",
    "        \n",
    "    def cookies(self):\n",
    "        return self.request['cookies']\n",
    "    \n",
    "    def is_authed(self):\n",
    "        return 'auth_key' in self.request['cookies'].keys()\n",
    "    \n",
    "class ParsesBody(Handler):\n",
    "    \n",
    "    def body(self):\n",
    "        return self.request['body']\n",
    "    \n",
    "class ParsesHeaders(Handler):\n",
    "    \n",
    "    def headers(self):\n",
    "        return self.request['headers']\n",
    "    \n",
    "    def need_json(self):\n",
    "        return self.request['headers'].get('content-type') == 'application/json'"
   ]
  },
  {
   "cell_type": "markdown",
   "id": "28ee68f5",
   "metadata": {},
   "source": [
    "**Задача:** Напишите класс JsonHandler, который будет наследоваться от классов ParsesBody и ParsesHeaders , иметь метод process() и конструктор, принимающий аргумент request и сохраняющий в self.request. В этом задании нужно использовать библиотеку json.\n",
    "\n",
    "Метод process() должен работать следующим образом:\n",
    "\n",
    "Если need_json() дает False, то возвращать None\n",
    "Иначе получать тело через body(), пытаться считать его как json.loads(...) и возвращать число ключей в словаре. Если считать не удалось, то вернуть None."
   ]
  },
  {
   "cell_type": "markdown",
   "id": "86aef6f5",
   "metadata": {},
   "source": [
    "**Решение**"
   ]
  },
  {
   "cell_type": "code",
   "execution_count": 22,
   "id": "ab90de5a",
   "metadata": {},
   "outputs": [],
   "source": [
    "import json\n",
    "class JsonHandler(ParsesBody, ParsesHeaders):\n",
    "    def __init__(self, request: dict):\n",
    "        self.request = request    \n",
    "    def process(self):\n",
    "        if self.need_json() == False:\n",
    "            None\n",
    "        else:\n",
    "            try:\n",
    "                return len(json.loads(self.body()))\n",
    "            except Exception:\n",
    "                return None\n",
    "            "
   ]
  },
  {
   "cell_type": "code",
   "execution_count": 23,
   "id": "df7e5309",
   "metadata": {},
   "outputs": [
    {
     "name": "stdout",
     "output_type": "stream",
     "text": [
      "3\n"
     ]
    }
   ],
   "source": [
    "r = {'body': '{\"a\": 123, \"b\": 1234, \"c\": 222}',\n",
    "     'headers': {'content-type': 'application/json'}\n",
    "    }\n",
    "print(JsonHandler(r).process())\n"
   ]
  },
  {
   "cell_type": "code",
   "execution_count": 24,
   "id": "0d5ba579",
   "metadata": {},
   "outputs": [
    {
     "name": "stdout",
     "output_type": "stream",
     "text": [
      "None\n"
     ]
    }
   ],
   "source": [
    "r = {'1': '{\"a\": 123, \"b\": 1234}',\n",
    "     'headers': {'content-type': 'application/json'}\n",
    "    }\n",
    "print(JsonHandler(r).process())"
   ]
  },
  {
   "cell_type": "markdown",
   "id": "2eca85f2",
   "metadata": {},
   "source": [
    "**Здача:**\n",
    "Используя миксины из прошлого пункта, напишите класс SecureTextHandler, который будет наследоваться от классов ParsesBody, ParsesHeaders и ParsesCookies , иметь метод process() и конструктор, принимающий один аргумент и сохраняющий его в нужное поле класса.\n",
    "\n",
    "Метод process() должен работать следующим образом:\n",
    "\n",
    "Если is_authed() дает False, то возвращать None.\n",
    "Иначе получать тело через body() и возвращать его длину."
   ]
  },
  {
   "cell_type": "markdown",
   "id": "e40e3758",
   "metadata": {},
   "source": [
    "**Решение**"
   ]
  },
  {
   "cell_type": "code",
   "execution_count": 25,
   "id": "86a11ec4",
   "metadata": {},
   "outputs": [],
   "source": [
    "class SecureTextHandler(ParsesBody, ParsesHeaders, ParsesCookies):\n",
    "    def __init__(self, request: dict):\n",
    "        self.request = request    \n",
    "    def process(self):\n",
    "        if self.is_authed() == False:\n",
    "            return None\n",
    "        else: return len(self.body())"
   ]
  },
  {
   "cell_type": "code",
   "execution_count": 26,
   "id": "26655fbc",
   "metadata": {},
   "outputs": [
    {
     "name": "stdout",
     "output_type": "stream",
     "text": [
      "5\n",
      "None\n"
     ]
    }
   ],
   "source": [
    "# Примеры\n",
    "r = {'cookies': {'auth_key': '123'},\n",
    "     'body': 'hello'\n",
    "    }\n",
    "print(SecureTextHandler(r).process())\n",
    "# 5\n",
    "\n",
    "r = {'cookies': {},\n",
    "     'body': 'hello'\n",
    "    }\n",
    "print(SecureTextHandler(r).process())\n",
    "# None"
   ]
  }
 ],
 "metadata": {
  "kernelspec": {
   "display_name": "Python 3 (ipykernel)",
   "language": "python",
   "name": "python3"
  },
  "language_info": {
   "codemirror_mode": {
    "name": "ipython",
    "version": 3
   },
   "file_extension": ".py",
   "mimetype": "text/x-python",
   "name": "python",
   "nbconvert_exporter": "python",
   "pygments_lexer": "ipython3",
   "version": "3.9.12"
  }
 },
 "nbformat": 4,
 "nbformat_minor": 5
}
